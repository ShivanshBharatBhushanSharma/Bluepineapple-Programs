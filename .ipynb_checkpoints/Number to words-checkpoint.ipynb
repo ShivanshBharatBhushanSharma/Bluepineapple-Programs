{
 "cells": [
  {
   "cell_type": "code",
   "execution_count": 7,
   "id": "7bd1c46f",
   "metadata": {},
   "outputs": [
    {
     "name": "stdout",
     "output_type": "stream",
     "text": [
      "Test Case for 1 is successfull.\n",
      "Test Case for 10 is successfull.\n",
      "Test Case for 35 is successfull.\n",
      "Test Case for 100 is successfull.\n",
      "Test Case for 150 is successfull.\n",
      "Test Case for 500 is successfull.\n",
      "Test Case for 1000 is successfull.\n",
      "Test Case for 1050 is successfull.\n",
      "Test Case for 10000 is successfull.\n",
      "Test Case for 25000 is successfull.\n"
     ]
    }
   ],
   "source": [
    "from num2words import  num2words\n",
    "\n",
    "def TestCase(actual,expected):\n",
    "    for i in range(10):\n",
    "        if actual[i] == expected[i]:\n",
    "            print(f\"Test Case for {number[i]} is successfull.\");\n",
    "        else :\n",
    "            print(f\"Test Case for {number[i]} is successfull.\");\n",
    "\n",
    "number=[1,10,35,100,150,500,1000,1050,10000,25000]            \n",
    "actual=[]\n",
    "expected=[\"one\",\"ten\",\"thirty-five\",\"one hundred\",\"one hundred and fifty\",\"five hundred\",\"one thousand\",\"one thousand and fifty\",\n",
    "         \"ten thousand\",\"twenty-five thousand\"]\n",
    "num=0\n",
    "\n",
    "for item in number:\n",
    "    actual.append(num2words(item))\n",
    "    \n",
    "TestCase(actual,expected)"
   ]
  },
  {
   "cell_type": "code",
   "execution_count": null,
   "id": "b98a33b1",
   "metadata": {},
   "outputs": [],
   "source": []
  }
 ],
 "metadata": {
  "kernelspec": {
   "display_name": "Python 3 (ipykernel)",
   "language": "python",
   "name": "python3"
  },
  "language_info": {
   "codemirror_mode": {
    "name": "ipython",
    "version": 3
   },
   "file_extension": ".py",
   "mimetype": "text/x-python",
   "name": "python",
   "nbconvert_exporter": "python",
   "pygments_lexer": "ipython3",
   "version": "3.11.1"
  }
 },
 "nbformat": 4,
 "nbformat_minor": 5
}
