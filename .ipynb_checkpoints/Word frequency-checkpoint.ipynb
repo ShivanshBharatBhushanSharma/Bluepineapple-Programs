{
 "cells": [
  {
   "cell_type": "code",
   "execution_count": 7,
   "id": "048dff90",
   "metadata": {},
   "outputs": [
    {
     "name": "stdout",
     "output_type": "stream",
     "text": [
      "Occurrences of the word festival : 5\n"
     ]
    }
   ],
   "source": [
    "from collections import Counter\n",
    "word = \"festival\"\n",
    "count = 0\n",
    "with open(\"input.txt\", 'r') as f:\n",
    "    for line in f:\n",
    "        words = line.split()\n",
    "        for i in words:\n",
    "            if(i.__contains__(',')):\n",
    "                i=i.replace(\",\",\"\")\n",
    "            if(i==word):\n",
    "                count=count+1\n",
    "print(\"Occurrences of the word\", word, \":\", count)"
   ]
  },
  {
   "cell_type": "code",
   "execution_count": null,
   "id": "4b43ed23",
   "metadata": {},
   "outputs": [],
   "source": []
  }
 ],
 "metadata": {
  "kernelspec": {
   "display_name": "Python 3 (ipykernel)",
   "language": "python",
   "name": "python3"
  },
  "language_info": {
   "codemirror_mode": {
    "name": "ipython",
    "version": 3
   },
   "file_extension": ".py",
   "mimetype": "text/x-python",
   "name": "python",
   "nbconvert_exporter": "python",
   "pygments_lexer": "ipython3",
   "version": "3.11.1"
  }
 },
 "nbformat": 4,
 "nbformat_minor": 5
}
